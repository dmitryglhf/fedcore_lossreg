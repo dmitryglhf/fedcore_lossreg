{
 "cells": [
  {
   "cell_type": "code",
   "execution_count": 1,
   "metadata": {},
   "outputs": [],
   "source": [
    "import pandas as pd\n",
    "\n",
    "import torch\n",
    "\n",
    "from fedcore_lossreg.preprocessing.convert import convert_df_to_dl\n",
    "from fedcore_lossreg.models.repository import MLP, L2Regression"
   ]
  },
  {
   "cell_type": "code",
   "execution_count": 2,
   "metadata": {},
   "outputs": [
    {
     "data": {
      "text/plain": [
       "<torch._C.Generator at 0x2902d9cbd50>"
      ]
     },
     "execution_count": 2,
     "metadata": {},
     "output_type": "execute_result"
    }
   ],
   "source": [
    "torch.manual_seed(42)"
   ]
  },
  {
   "cell_type": "code",
   "execution_count": 3,
   "metadata": {},
   "outputs": [],
   "source": [
    "# Get data\n",
    "train = pd.read_csv('data/kaggle_s3e1/train.csv')\n",
    "X_test = pd.read_csv('data/kaggle_s3e1/test.csv')\n",
    "\n",
    "train.drop(columns='id', inplace=True)\n",
    "X_test.drop(columns='id', inplace=True)\n",
    "\n",
    "X_train, y_train = train.drop(columns='MedHouseVal'), train['MedHouseVal']\n",
    "\n",
    "# Convert to data loader\n",
    "train_dl = convert_df_to_dl(X_train, y_train)\n",
    "X_test = torch.tensor(X_test.to_numpy(), dtype=torch.float32)"
   ]
  },
  {
   "cell_type": "code",
   "execution_count": 4,
   "metadata": {},
   "outputs": [],
   "source": [
    "# # MLP\n",
    "# mlp_model = MLP(input_size=X_train.shape[1], output_size=1)\n",
    "# mlp_model.fit(num_epochs=100, train_dl=train_dl, plot_loss=True)\n",
    "# y_pred = mlp_model.predict(X_test)"
   ]
  },
  {
   "cell_type": "code",
   "execution_count": 5,
   "metadata": {},
   "outputs": [
    {
     "name": "stdout",
     "output_type": "stream",
     "text": [
      "Epoch 10/1000, L2 loss: 33.5538\n",
      "Epoch 20/1000, L2 loss: 20.3777\n",
      "Epoch 30/1000, L2 loss: 5.9929\n",
      "Epoch 40/1000, L2 loss: 1.7499\n",
      "Epoch 50/1000, L2 loss: 0.2772\n",
      "Epoch 60/1000, L2 loss: 0.8679\n",
      "Epoch 70/1000, L2 loss: 0.2649\n",
      "Epoch 80/1000, L2 loss: 0.6806\n",
      "Epoch 90/1000, L2 loss: 0.1775\n",
      "Epoch 100/1000, L2 loss: 0.6161\n",
      "Epoch 110/1000, L2 loss: 1.3214\n",
      "Epoch 120/1000, L2 loss: 0.1990\n",
      "Epoch 130/1000, L2 loss: 0.9307\n",
      "Epoch 140/1000, L2 loss: 1.7791\n",
      "Epoch 150/1000, L2 loss: 0.5312\n",
      "Epoch 160/1000, L2 loss: 0.4817\n",
      "Epoch 170/1000, L2 loss: 0.5714\n",
      "Epoch 180/1000, L2 loss: 0.4429\n",
      "Epoch 190/1000, L2 loss: 0.5008\n",
      "Epoch 200/1000, L2 loss: 0.4327\n",
      "Epoch 210/1000, L2 loss: 1.1667\n",
      "Epoch 220/1000, L2 loss: 0.4108\n",
      "Epoch 230/1000, L2 loss: 0.5589\n",
      "Epoch 240/1000, L2 loss: 0.8150\n",
      "Epoch 250/1000, L2 loss: 0.5569\n",
      "Epoch 260/1000, L2 loss: 0.6939\n",
      "Epoch 270/1000, L2 loss: 0.8934\n",
      "Epoch 280/1000, L2 loss: 0.3644\n",
      "Epoch 290/1000, L2 loss: 0.4146\n",
      "Epoch 300/1000, L2 loss: 0.2728\n",
      "Epoch 310/1000, L2 loss: 0.6684\n",
      "Epoch 320/1000, L2 loss: 0.7017\n",
      "Epoch 330/1000, L2 loss: 0.2376\n",
      "Epoch 340/1000, L2 loss: 0.8319\n",
      "Epoch 350/1000, L2 loss: 0.5186\n",
      "Epoch 360/1000, L2 loss: 0.6062\n",
      "Epoch 370/1000, L2 loss: 0.7114\n",
      "Epoch 380/1000, L2 loss: 0.4731\n",
      "Epoch 390/1000, L2 loss: 0.5271\n",
      "Epoch 400/1000, L2 loss: 0.2247\n",
      "Epoch 410/1000, L2 loss: 0.3466\n",
      "Epoch 420/1000, L2 loss: 0.5830\n",
      "Epoch 430/1000, L2 loss: 0.2829\n",
      "Epoch 440/1000, L2 loss: 0.2873\n",
      "Epoch 450/1000, L2 loss: 1.1647\n",
      "Epoch 460/1000, L2 loss: 0.3527\n",
      "Epoch 470/1000, L2 loss: 1.1614\n",
      "Epoch 480/1000, L2 loss: 0.1878\n",
      "Epoch 490/1000, L2 loss: 1.3065\n",
      "Epoch 500/1000, L2 loss: 0.3276\n",
      "Epoch 510/1000, L2 loss: 1.2177\n",
      "Epoch 520/1000, L2 loss: 0.5707\n",
      "Epoch 530/1000, L2 loss: 0.6022\n",
      "Epoch 540/1000, L2 loss: 0.5072\n",
      "Epoch 550/1000, L2 loss: 0.4070\n",
      "Epoch 560/1000, L2 loss: 0.2792\n",
      "Epoch 570/1000, L2 loss: 0.9468\n",
      "Epoch 580/1000, L2 loss: 0.6517\n",
      "Epoch 590/1000, L2 loss: 0.4415\n",
      "Epoch 600/1000, L2 loss: 0.2329\n",
      "Epoch 610/1000, L2 loss: 0.5046\n",
      "Epoch 620/1000, L2 loss: 0.3878\n",
      "Epoch 630/1000, L2 loss: 0.4452\n",
      "Epoch 640/1000, L2 loss: 0.6786\n",
      "Epoch 650/1000, L2 loss: 0.6911\n",
      "Epoch 660/1000, L2 loss: 0.5783\n",
      "Epoch 670/1000, L2 loss: 0.5649\n",
      "Epoch 680/1000, L2 loss: 0.5688\n",
      "Epoch 690/1000, L2 loss: 0.2397\n",
      "Epoch 700/1000, L2 loss: 0.6018\n",
      "Epoch 710/1000, L2 loss: 0.6149\n",
      "Epoch 720/1000, L2 loss: 0.5466\n",
      "Epoch 730/1000, L2 loss: 0.4238\n",
      "Epoch 740/1000, L2 loss: 0.4907\n",
      "Epoch 750/1000, L2 loss: 0.3491\n",
      "Epoch 760/1000, L2 loss: 1.2377\n",
      "Epoch 770/1000, L2 loss: 0.3211\n",
      "Epoch 780/1000, L2 loss: 0.5043\n",
      "Epoch 790/1000, L2 loss: 0.8076\n",
      "Epoch 800/1000, L2 loss: 0.6077\n",
      "Epoch 810/1000, L2 loss: 0.4808\n",
      "Epoch 820/1000, L2 loss: 0.1920\n",
      "Epoch 830/1000, L2 loss: 0.6992\n",
      "Epoch 840/1000, L2 loss: 1.1764\n",
      "Epoch 850/1000, L2 loss: 0.2073\n",
      "Epoch 860/1000, L2 loss: 0.5394\n",
      "Epoch 870/1000, L2 loss: 0.4873\n",
      "Epoch 880/1000, L2 loss: 0.7615\n",
      "Epoch 890/1000, L2 loss: 0.5273\n",
      "Epoch 900/1000, L2 loss: 0.9781\n",
      "Epoch 910/1000, L2 loss: 0.4011\n",
      "Epoch 920/1000, L2 loss: 0.4822\n",
      "Epoch 930/1000, L2 loss: 0.1689\n",
      "Epoch 940/1000, L2 loss: 0.4149\n",
      "Epoch 950/1000, L2 loss: 0.2582\n",
      "Epoch 960/1000, L2 loss: 1.0308\n",
      "Epoch 970/1000, L2 loss: 0.4436\n",
      "Epoch 980/1000, L2 loss: 0.3902\n",
      "Epoch 990/1000, L2 loss: 0.6881\n",
      "Epoch 1000/1000, L2 loss: 0.4823\n",
      "Fitting complete!\n",
      "Plotting the loss curve:\n"
     ]
    },
    {
     "data": {
      "image/png": "[encoded data removed]",
      "text/plain": [
       "<Figure size 640x480 with 1 Axes>"
      ]
     },
     "metadata": {},
     "output_type": "display_data"
    }
   ],
   "source": [
    "# Ridge\n",
    "ridge_model = L2Regression(input_size=X_train.shape[1], output_size=1)\n",
    "ridge_model.fit(num_epochs=1000, train_dl=train_dl, plot_loss=True)\n",
    "y_pred = ridge_model.predict(X_test)"
   ]
  },
  {
   "cell_type": "code",
   "execution_count": 6,
   "metadata": {},
   "outputs": [],
   "source": [
    "submission = pd.read_csv('data/kaggle_s3e1/sample_submission.csv')\n",
    "submission['MedHouseVal'] = y_pred\n",
    "submission.to_csv('submission.csv', index=False)"
   ]
  },
  {
   "cell_type": "code",
   "execution_count": null,
   "metadata": {},
   "outputs": [],
   "source": []
  }
 ],
 "metadata": {
  "kernelspec": {
   "display_name": ".venv",
   "language": "python",
   "name": "python3"
  },
  "language_info": {
   "codemirror_mode": {
    "name": "ipython",
    "version": 3
   },
   "file_extension": ".py",
   "mimetype": "text/x-python",
   "name": "python",
   "nbconvert_exporter": "python",
   "pygments_lexer": "ipython3",
   "version": "3.11.4"
  }
 },
 "nbformat": 4,
 "nbformat_minor": 2
}

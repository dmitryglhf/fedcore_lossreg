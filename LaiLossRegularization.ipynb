{
 "cells": [
  {
   "cell_type": "markdown",
   "metadata": {},
   "source": [
    "**Dataset:** Regression with a tabular California housing dataset [Data set].\n",
    "Kaggle. https://kaggle.com/competitions/playground-series-s3e1\n",
    "\n",
    "**Architecture:** "
   ]
  },
  {
   "cell_type": "code",
   "execution_count": 2,
   "metadata": {},
   "outputs": [],
   "source": [
    "import pandas as pd\n",
    "\n",
    "import torch\n",
    "import torch.nn as nn\n",
    "import torch.optim as optim\n",
    "from torch.utils.data import Dataset, DataLoader\n",
    "\n",
    "from sklearn.datasets import make_classification\n",
    "from sklearn.model_selection import train_test_split\n",
    "from sklearn.preprocessing import StandardScaler"
   ]
  },
  {
   "cell_type": "code",
   "execution_count": null,
   "metadata": {},
   "outputs": [],
   "source": [
    "url_train = 'https://raw.githubusercontent.com/dmitryglhf/fedcore_lossreg/refs/heads/main/data/kaggle_s3e1/train.csv'\n",
    "url_test = 'https://raw.githubusercontent.com/dmitryglhf/fedcore_lossreg/refs/heads/main/data/kaggle_s3e1/test.csv'\n",
    "\n",
    "train = pd.read_csv(url_train, index_col=0)\n",
    "X_test = pd.read_csv(url_test, index_col=0)\n",
    "\n",
    "X_train, y_train = train.drop(columns='Target'), train['Target']"
   ]
  },
  {
   "cell_type": "code",
   "execution_count": 14,
   "metadata": {},
   "outputs": [],
   "source": [
    "train_tensor = torch.tensor(train.values, dtype=torch.float32)\n",
    "test_tensor = torch.tensor(test.values, dtype=torch.float32)"
   ]
  },
  {
   "cell_type": "code",
   "execution_count": 15,
   "metadata": {},
   "outputs": [],
   "source": [
    "train_loader = DataLoader(train_tensor, batch_size=32, shuffle=True)\n",
    "test_loader = DataLoader(test_tensor, batch_size=32)"
   ]
  },
  {
   "cell_type": "code",
   "execution_count": null,
   "metadata": {},
   "outputs": [],
   "source": []
  }
 ],
 "metadata": {
  "kernelspec": {
   "display_name": ".venv",
   "language": "python",
   "name": "python3"
  },
  "language_info": {
   "codemirror_mode": {
    "name": "ipython",
    "version": 3
   },
   "file_extension": ".py",
   "mimetype": "text/x-python",
   "name": "python",
   "nbconvert_exporter": "python",
   "pygments_lexer": "ipython3",
   "version": "3.10.11"
  }
 },
 "nbformat": 4,
 "nbformat_minor": 2
}

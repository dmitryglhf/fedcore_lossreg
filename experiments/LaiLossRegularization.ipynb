{
 "cells": [
  {
   "cell_type": "code",
   "execution_count": 1,
   "metadata": {},
   "outputs": [],
   "source": [
    "import pandas as pd\n",
    "\n",
    "import torch\n",
    "from torch.utils.data import DataLoader\n",
    "\n",
    "from fedcore_lossreg.preprocessing.convert import convert_df_to_dl\n",
    "from fedcore_lossreg.models.repository import MLP, L2Regression"
   ]
  },
  {
   "cell_type": "code",
   "execution_count": 2,
   "metadata": {},
   "outputs": [],
   "source": [
    "# Get data\n",
    "train = pd.read_csv('data/kaggle_s3e1/train.csv')\n",
    "X_test = pd.read_csv('data/kaggle_s3e1/test.csv')\n",
    "train.drop(columns='id', inplace=True)\n",
    "X_test.drop(columns='id', inplace=True)\n",
    "X_train, y_train = train.drop(columns='MedHouseVal'), train['MedHouseVal']\n",
    "\n",
    "# Convert to data loader\n",
    "train_dl = convert_df_to_dl(X_train, y_train)\n",
    "X_test = torch.tensor(X_test.to_numpy(), dtype=torch.float32)"
   ]
  },
  {
   "cell_type": "code",
   "execution_count": 3,
   "metadata": {},
   "outputs": [
    {
     "name": "stderr",
     "output_type": "stream",
     "text": [
      "c:\\Users\\User\\Desktop\\Prog\\fedcore_lossreg\\.venv\\Lib\\site-packages\\torch\\nn\\modules\\loss.py:610: UserWarning: Using a target size (torch.Size([64])) that is different to the input size (torch.Size([64, 1])). This will likely lead to incorrect results due to broadcasting. Please ensure they have the same size.\n",
      "  return F.mse_loss(input, target, reduction=self.reduction)\n",
      "c:\\Users\\User\\Desktop\\Prog\\fedcore_lossreg\\.venv\\Lib\\site-packages\\torch\\nn\\modules\\loss.py:610: UserWarning: Using a target size (torch.Size([17])) that is different to the input size (torch.Size([17, 1])). This will likely lead to incorrect results due to broadcasting. Please ensure they have the same size.\n",
      "  return F.mse_loss(input, target, reduction=self.reduction)\n"
     ]
    },
    {
     "name": "stdout",
     "output_type": "stream",
     "text": [
      "Epoch 10/100, Loss: 4.0421\n",
      "Epoch 20/100, Loss: 1.3557\n",
      "Epoch 30/100, Loss: 1.2745\n",
      "Epoch 40/100, Loss: 0.9378\n",
      "Epoch 50/100, Loss: 1.1589\n",
      "Epoch 60/100, Loss: 1.9291\n",
      "Epoch 70/100, Loss: 2.9548\n",
      "Epoch 80/100, Loss: 0.6885\n",
      "Epoch 90/100, Loss: 1.1503\n",
      "Epoch 100/100, Loss: 0.7904\n"
     ]
    }
   ],
   "source": [
    "# MLP\n",
    "mlp_model = MLP(input_size=X_train.shape[1], output_size=1)\n",
    "mlp_model.fit(num_epochs=100, train_dl=train_dl)\n",
    "y_pred = mlp_model.predict(X_test)"
   ]
  },
  {
   "cell_type": "code",
   "execution_count": 4,
   "metadata": {},
   "outputs": [],
   "source": [
    "# # Ridge\n",
    "# ridge_model = L2Regression(input_size=X_train.shape[1], output_size=1)\n",
    "# ridge_model.fit(num_epochs=100, train_dl=train_dl)\n",
    "# y_pred = ridge_model.predict(X_test)"
   ]
  },
  {
   "cell_type": "code",
   "execution_count": 5,
   "metadata": {},
   "outputs": [],
   "source": [
    "# submission = pd.read_csv('data/kaggle_s3e1/sample_submission.csv')\n",
    "# submission['MedHouseVal'] = y_pred\n",
    "# submission.to_csv('mlp.csv', index=False)"
   ]
  },
  {
   "cell_type": "code",
   "execution_count": null,
   "metadata": {},
   "outputs": [],
   "source": []
  }
 ],
 "metadata": {
  "kernelspec": {
   "display_name": ".venv",
   "language": "python",
   "name": "python3"
  },
  "language_info": {
   "codemirror_mode": {
    "name": "ipython",
    "version": 3
   },
   "file_extension": ".py",
   "mimetype": "text/x-python",
   "name": "python",
   "nbconvert_exporter": "python",
   "pygments_lexer": "ipython3",
   "version": "3.11.4"
  }
 },
 "nbformat": 4,
 "nbformat_minor": 2
}
